{
 "cells": [
  {
   "cell_type": "markdown",
   "metadata": {
    "_uuid": "178154c1909b80602abc389b22f18688830e8320"
   },
   "source": [
    "## Import required libraries"
   ]
  },
  {
   "cell_type": "code",
   "execution_count": 2,
   "metadata": {
    "_cell_guid": "b1076dfc-b9ad-4769-8c92-a6c4dae69d19",
    "_uuid": "8f2839f25d086af736a60e9eeb907d3b93b6e0e5"
   },
   "outputs": [
    {
     "name": "stderr",
     "output_type": "stream",
     "text": [
      "Using TensorFlow backend.\n"
     ]
    }
   ],
   "source": [
    "import os, fnmatch\n",
    "from math import ceil\n",
    "import imageio\n",
    "import numpy as np\n",
    "import matplotlib.pyplot as plt\n",
    "import seaborn as sns\n",
    "import pandas as pd\n",
    "from PIL import Image\n",
    "Image.LOAD_TRUNCATED_IMAGES = True\n",
    "from urllib.error import HTTPError\n",
    "from urllib.request import urlretrieve\n",
    "from datetime import datetime\n",
    "from random import shuffle\n",
    "from sklearn.model_selection import train_test_split\n",
    "from sklearn import metrics\n",
    "from keras.models import Model, Sequential\n",
    "from keras.utils import np_utils, plot_model, to_categorical\n",
    "from keras.layers import Maximum, ZeroPadding2D, BatchNormalization\n",
    "from keras.layers import Input, Dense, Flatten, Activation, Dropout\n",
    "from keras.callbacks import ModelCheckpoint, CSVLogger, TensorBoard\n",
    "from keras.optimizers import Adam, SGD\n",
    "from keras import optimizers, regularizers\n",
    "from keras import backend as K\n",
    "\n",
    "from keras.initializers import glorot_uniform\n",
    "\n",
    "from keras.layers.merge import concatenate\n",
    "from keras.layers.convolutional import Conv2D\n",
    "from keras.layers.pooling import MaxPooling2D\n",
    "\n",
    "from keras.preprocessing.image import ImageDataGenerator\n",
    "from keras.callbacks import ModelCheckpoint, ReduceLROnPlateau\n",
    "from keras.layers.advanced_activations import LeakyReLU, ReLU\n",
    "\n",
    "from keras import applications\n",
    "from keras.applications.inception_v3 import InceptionV3"
   ]
  },
  {
   "cell_type": "code",
   "execution_count": 3,
   "metadata": {},
   "outputs": [],
   "source": [
    "from cnn_model_helper import *"
   ]
  },
  {
   "cell_type": "markdown",
   "metadata": {},
   "source": [
    "## Splitting images to train, validation and test folders"
   ]
  },
  {
   "cell_type": "code",
   "execution_count": 5,
   "metadata": {},
   "outputs": [
    {
     "name": "stdout",
     "output_type": "stream",
     "text": [
      "/home/jupyter/glcapstone\n",
      "/home/jupyter/glcapstone/TrainTestImages\n",
      "/home/jupyter/glcapstone/images\n"
     ]
    }
   ],
   "source": [
    "baseFolder = \"/home/jupyter/glcapstone\"\n",
    "inputFileFolder = os.path.join(baseFolder, \"TrainTestImages\")\n",
    "targetFileFolder = os.path.join(baseFolder, \"images\")\n",
    "\n",
    "print(baseFolder)\n",
    "print(inputFileFolder)\n",
    "print(targetFileFolder)"
   ]
  },
  {
   "cell_type": "code",
   "execution_count": 6,
   "metadata": {},
   "outputs": [],
   "source": [
    "## Only run if folders are already not created with required images\n",
    "#SplitImagesToTrainTestFolders(inputFileFolder, targetFileFolder)"
   ]
  },
  {
   "cell_type": "markdown",
   "metadata": {
    "_uuid": "750898e44f217002c23d730ef2ba9bacf00fc160"
   },
   "source": [
    "### Set variables for further use"
   ]
  },
  {
   "cell_type": "code",
   "execution_count": 7,
   "metadata": {
    "_cell_guid": "79c7e3d0-c299-4dcb-8224-4455121ee9b0",
    "_uuid": "d629ff2d2480ee46fbb7e2d37f6b5fab8052498a"
   },
   "outputs": [
    {
     "name": "stdout",
     "output_type": "stream",
     "text": [
      "Images Base Folder: /home/jupyter/glcapstone/images\n",
      "Train Images Folder: /home/jupyter/glcapstone/images/Train\n",
      "Validation Images Folder: /home/jupyter/glcapstone/images/Validation\n",
      "Test Images Folder: /home/jupyter/glcapstone/images/Test\n",
      "Log Images Folder: /home/jupyter/glcapstone/Logs\n"
     ]
    }
   ],
   "source": [
    "# Set the path from where images needs to be read\n",
    "inputFileFolder = os.path.join(baseFolder, \"images\")\n",
    "trainFolder = os.path.join(inputFileFolder,\"Train\")\n",
    "validationFolder = os.path.join(inputFileFolder,\"Validation\")\n",
    "testFolder = os.path.join(inputFileFolder,\"Test\")\n",
    "logFolders = os.path.join(baseFolder,\"Logs\")\n",
    "\n",
    "print('Images Base Folder: %s' %(inputFileFolder))\n",
    "print('Train Images Folder: %s' %(trainFolder))\n",
    "print('Validation Images Folder: %s' %(validationFolder))\n",
    "print('Test Images Folder: %s' %(testFolder))\n",
    "print('Log Images Folder: %s' %(logFolders))"
   ]
  },
  {
   "cell_type": "markdown",
   "metadata": {
    "_uuid": "522f02c075d3f46872c465e629a27fc6261e472b"
   },
   "source": [
    "## Create and run model"
   ]
  },
  {
   "cell_type": "markdown",
   "metadata": {
    "_uuid": "a6f5bf480b76c4c4c98be0136d8b48ba23daa2f8"
   },
   "source": [
    "### Create various generators to read the images"
   ]
  },
  {
   "cell_type": "code",
   "execution_count": 8,
   "metadata": {},
   "outputs": [],
   "source": [
    "epochs_count = 100\n",
    "train_batch_size = 32\n",
    "validation_batch_size = 32"
   ]
  },
  {
   "cell_type": "code",
   "execution_count": 9,
   "metadata": {},
   "outputs": [
    {
     "name": "stdout",
     "output_type": "stream",
     "text": [
      "Found 22000 images belonging to 22 classes.\n"
     ]
    }
   ],
   "source": [
    "trainDataGen = ImageDataGenerator(\n",
    "    rescale=1./255\n",
    "#    , rotation_range=15\n",
    "#    , width_shift_range=0.3\n",
    "#    , height_shift_range=0.3\n",
    "#    , horizontal_flip=True\n",
    "#    , fill_mode='nearest'\n",
    ")\n",
    "\n",
    "train_generator = trainDataGen.flow_from_directory(\n",
    "    trainFolder, color_mode='rgb', class_mode='categorical'\n",
    "    , batch_size=train_batch_size, shuffle=True, seed=42\n",
    ")"
   ]
  },
  {
   "cell_type": "code",
   "execution_count": 10,
   "metadata": {},
   "outputs": [
    {
     "name": "stdout",
     "output_type": "stream",
     "text": [
      "Found 2200 images belonging to 22 classes.\n"
     ]
    }
   ],
   "source": [
    "vaDataGen = ImageDataGenerator(rescale=1./255)\n",
    "\n",
    "validation_generator = vaDataGen.flow_from_directory(\n",
    "    validationFolder , color_mode='rgb' , class_mode='categorical'\n",
    "    , batch_size=validation_batch_size , shuffle=True , seed=42\n",
    ")"
   ]
  },
  {
   "cell_type": "code",
   "execution_count": 11,
   "metadata": {},
   "outputs": [
    {
     "name": "stdout",
     "output_type": "stream",
     "text": [
      "Train Step Size: 688\n",
      "Validation Step Size: 69\n"
     ]
    }
   ],
   "source": [
    "##print(train_generator.class_indices)\n",
    "\n",
    "## Compute the step sizes\n",
    "step_size_train = ceil(train_generator.n/train_generator.batch_size)\n",
    "step_size_valid = ceil(validation_generator.n/validation_generator.batch_size)\n",
    "\n",
    "print(\"Train Step Size: %s\" %(step_size_train))\n",
    "print(\"Validation Step Size: %s\" %(step_size_valid))\n"
   ]
  },
  {
   "cell_type": "code",
   "execution_count": 12,
   "metadata": {},
   "outputs": [
    {
     "name": "stdout",
     "output_type": "stream",
     "text": [
      "CSV: /home/jupyter/glcapstone/Logs/CSVLogs/7Layer_4Conv_3Dense_BN_20190307-015123.csv\n",
      "Tensor Board: /home/jupyter/glcapstone/Logs/TensorBoardLogs/7Layer_4Conv_3Dense_BN_20190307-015123\n",
      "Checkpoint: /home/jupyter/glcapstone/Logs/CheckPoint/7Layer_4Conv_3Dense_BN_20190223-114737.hdf5\n",
      "Model Loc: /home/jupyter/glcapstone/Models/7Layer_4Conv_3Dense_BN_20190307-015123.h5\n"
     ]
    }
   ],
   "source": [
    "timestamp = datetime.now().strftime(\"%Y%m%d-%H%M%S\")\n",
    "model_name = \"7Layer_4Conv_3Dense_BN_\" + timestamp\n",
    "\n",
    "csvLoggerPath = os.path.join(logFolders, \"CSVLogs\", '%s.csv' %model_name)\n",
    "tensorBoardLogPath = os.path.join(logFolders, 'TensorBoardLogs', model_name)\n",
    "checkPointerPath = os.path.join(logFolders,'CheckPoint', '%s.hdf5' %'7Layer_4Conv_3Dense_BN_20190223-114737')\n",
    "modelLoc = os.path.join(baseFolder,\"Models\", \"%s.h5\" %(model_name))\n",
    "\n",
    "print(\"CSV: %s\" %(csvLoggerPath))\n",
    "print(\"Tensor Board: %s\" %(tensorBoardLogPath))\n",
    "print(\"Checkpoint: %s\" %(checkPointerPath))\n",
    "print(\"Model Loc: %s\" %(modelLoc))"
   ]
  },
  {
   "cell_type": "code",
   "execution_count": 13,
   "metadata": {},
   "outputs": [],
   "source": [
    "csvLogger = CSVLogger(csvLoggerPath)\n",
    "checkPointer = ModelCheckpoint(filepath=checkPointerPath,monitor='val_acc', mode='max', verbose=0, save_best_only=True)\n",
    "tensorBoard = TensorBoard(log_dir=tensorBoardLogPath, batch_size=32, write_graph=True, write_images=True)\n",
    "\n",
    "\n",
    "#tensorBoard = TensorBoard(log_dir=tensorBoardLogPath, histogram_freq=0, batch_size=32,\n",
    "#                          write_graph=True, write_grads=False, write_images=False, embeddings_freq=0, \n",
    "#                          embeddings_layer_names=None, embeddings_metadata=None, \n",
    "#                          embeddings_data=None, update_freq='epoch')"
   ]
  },
  {
   "cell_type": "markdown",
   "metadata": {},
   "source": [
    "### Create and file Model"
   ]
  },
  {
   "cell_type": "code",
   "execution_count": 14,
   "metadata": {},
   "outputs": [],
   "source": [
    "classes = len(list(train_generator.class_indices.keys()))"
   ]
  },
  {
   "cell_type": "code",
   "execution_count": 15,
   "metadata": {
    "_uuid": "f207b4e200f1c1c381989037950317c0ff9e4bfa"
   },
   "outputs": [
    {
     "name": "stdout",
     "output_type": "stream",
     "text": [
      "_________________________________________________________________\n",
      "Layer (type)                 Output Shape              Param #   \n",
      "=================================================================\n",
      "input_1 (InputLayer)         (None, 256, 256, 3)       0         \n",
      "_________________________________________________________________\n",
      "BLOCK1_CONV1_LYR (Conv2D)    (None, 256, 256, 32)      896       \n",
      "_________________________________________________________________\n",
      "BLOCK1_BN1_LYR (BatchNormali (None, 256, 256, 32)      128       \n",
      "_________________________________________________________________\n",
      "BLOCK1_POOL1_LYR (MaxPooling (None, 128, 128, 32)      0         \n",
      "_________________________________________________________________\n",
      "BLOCK2_CONV1_LYR (Conv2D)    (None, 128, 128, 64)      18496     \n",
      "_________________________________________________________________\n",
      "BLOCK2_BN1_LYR (BatchNormali (None, 128, 128, 64)      256       \n",
      "_________________________________________________________________\n",
      "BLOCK2_POOL1_LYR (MaxPooling (None, 64, 64, 64)        0         \n",
      "_________________________________________________________________\n",
      "BLOCK3_CONV1_LYR (Conv2D)    (None, 64, 64, 128)       73856     \n",
      "_________________________________________________________________\n",
      "BLOCK3_BN1_LYR (BatchNormali (None, 64, 64, 128)       512       \n",
      "_________________________________________________________________\n",
      "BLOCK3_POOL1_LYR (MaxPooling (None, 32, 32, 128)       0         \n",
      "_________________________________________________________________\n",
      "BLOCK4_CONV1_LYR (Conv2D)    (None, 32, 32, 256)       295168    \n",
      "_________________________________________________________________\n",
      "BLOCK4_BN1_LYR (BatchNormali (None, 32, 32, 256)       1024      \n",
      "_________________________________________________________________\n",
      "BLOCK4_POOL1_LYR (MaxPooling (None, 16, 16, 256)       0         \n",
      "_________________________________________________________________\n",
      "FLATTEN_LYR (Flatten)        (None, 65536)             0         \n",
      "_________________________________________________________________\n",
      "DENSE1_LYR (Dense)           (None, 256)               16777472  \n",
      "_________________________________________________________________\n",
      "DENSE1_BN_LYR (BatchNormaliz (None, 256)               1024      \n",
      "_________________________________________________________________\n",
      "DENSE1_DROPOUT_LYR (Dropout) (None, 256)               0         \n",
      "_________________________________________________________________\n",
      "DENSE2_LYR (Dense)           (None, 256)               65792     \n",
      "_________________________________________________________________\n",
      "DENSE2_BN_LYR (BatchNormaliz (None, 256)               1024      \n",
      "_________________________________________________________________\n",
      "DENSE2_DROPOUT_LYR (Dropout) (None, 256)               0         \n",
      "_________________________________________________________________\n",
      "OUTPUT_LYR (Dense)           (None, 22)                5654      \n",
      "=================================================================\n",
      "Total params: 17,241,302\n",
      "Trainable params: 17,239,318\n",
      "Non-trainable params: 1,984\n",
      "_________________________________________________________________\n"
     ]
    }
   ],
   "source": [
    "#sgd = optimizers.SGD(lr=0.01, decay=1e-6, momentum=0.9, nesterov=True)\n",
    "model = get7Layer_4Conv_3Dense_BN_Model(classes, 'adam')"
   ]
  },
  {
   "cell_type": "code",
   "execution_count": null,
   "metadata": {},
   "outputs": [
    {
     "name": "stdout",
     "output_type": "stream",
     "text": [
      "Epoch 1/100\n",
      "688/688 [==============================] - 162s 236ms/step - loss: 2.3288 - acc: 0.3373 - val_loss: 1.6242 - val_acc: 0.5182\n",
      "Epoch 2/100\n",
      "688/688 [==============================] - 156s 227ms/step - loss: 1.3532 - acc: 0.5841 - val_loss: 1.3618 - val_acc: 0.5927\n",
      "Epoch 3/100\n",
      "688/688 [==============================] - 156s 227ms/step - loss: 0.9531 - acc: 0.7036 - val_loss: 1.0049 - val_acc: 0.6927\n",
      "Epoch 4/100\n",
      "688/688 [==============================] - 156s 227ms/step - loss: 0.6665 - acc: 0.7871 - val_loss: 1.1699 - val_acc: 0.6705\n",
      "Epoch 5/100\n",
      "688/688 [==============================] - 156s 226ms/step - loss: 0.4464 - acc: 0.8581 - val_loss: 0.8418 - val_acc: 0.7618\n",
      "Epoch 6/100\n",
      "688/688 [==============================] - 156s 227ms/step - loss: 0.2931 - acc: 0.9058 - val_loss: 1.0316 - val_acc: 0.7159\n",
      "Epoch 7/100\n",
      "688/688 [==============================] - 156s 227ms/step - loss: 0.2244 - acc: 0.9260 - val_loss: 0.9534 - val_acc: 0.7523\n",
      "Epoch 8/100\n",
      "688/688 [==============================] - 156s 227ms/step - loss: 0.1750 - acc: 0.9421 - val_loss: 1.1031 - val_acc: 0.7150\n",
      "Epoch 9/100\n",
      "688/688 [==============================] - 156s 227ms/step - loss: 0.1317 - acc: 0.9559 - val_loss: 1.1798 - val_acc: 0.7341\n",
      "Epoch 10/100\n",
      "688/688 [==============================] - 157s 227ms/step - loss: 0.1177 - acc: 0.9609 - val_loss: 1.1941 - val_acc: 0.7300\n",
      "Epoch 11/100\n",
      "688/688 [==============================] - 156s 227ms/step - loss: 0.1232 - acc: 0.9593 - val_loss: 1.1312 - val_acc: 0.7468\n",
      "Epoch 12/100\n",
      "570/688 [=======================>......] - ETA: 25s - loss: 0.0919 - acc: 0.9684Epoch 13/100\n",
      "688/688 [==============================] - 156s 227ms/step - loss: 0.0865 - acc: 0.9708 - val_loss: 1.1698 - val_acc: 0.7518\n",
      "Epoch 14/100\n",
      "688/688 [==============================] - 156s 227ms/step - loss: 0.0830 - acc: 0.9730 - val_loss: 1.1907 - val_acc: 0.7564\n",
      "Epoch 15/100\n",
      "688/688 [==============================] - 156s 227ms/step - loss: 0.0801 - acc: 0.9743 - val_loss: 1.4595 - val_acc: 0.7059\n",
      "Epoch 16/100\n",
      "688/688 [==============================] - 156s 227ms/step - loss: 0.0679 - acc: 0.9775 - val_loss: 1.2418 - val_acc: 0.7391\n",
      "Epoch 17/100\n",
      "688/688 [==============================] - 156s 227ms/step - loss: 0.0557 - acc: 0.9812 - val_loss: 1.4187 - val_acc: 0.7095\n",
      "Epoch 20/100\n",
      "688/688 [==============================] - 156s 227ms/step - loss: 0.0304 - acc: 0.9896 - val_loss: 1.2746 - val_acc: 0.7600\n",
      "Epoch 34/100\n",
      "688/688 [==============================] - 156s 227ms/step - loss: 0.0402 - acc: 0.9876 - val_loss: 1.3567 - val_acc: 0.7582\n",
      "Epoch 35/100\n",
      "688/688 [==============================] - 156s 227ms/step - loss: 0.0272 - acc: 0.9908 - val_loss: 1.1817 - val_acc: 0.7705\n",
      "Epoch 36/100\n",
      "688/688 [==============================] - 156s 227ms/step - loss: 0.0193 - acc: 0.9936 - val_loss: 1.3436 - val_acc: 0.7755\n",
      "Epoch 54/100\n",
      "688/688 [==============================] - 157s 228ms/step - loss: 0.0170 - acc: 0.9948 - val_loss: 1.4677 - val_acc: 0.7573\n",
      "Epoch 69/100\n",
      "688/688 [==============================] - 156s 227ms/step - loss: 0.0189 - acc: 0.9941 - val_loss: 1.4850 - val_acc: 0.7736\n",
      "Epoch 70/100\n",
      "688/688 [==============================] - 158s 229ms/step - loss: 0.0121 - acc: 0.9960 - val_loss: 1.4562 - val_acc: 0.7805\n",
      "Epoch 89/100\n",
      "688/688 [==============================] - 158s 230ms/step - loss: 0.0133 - acc: 0.9955 - val_loss: 1.5299 - val_acc: 0.7664\n",
      "Epoch 90/100\n",
      "688/688 [==============================] - 158s 229ms/step - loss: 0.0126 - acc: 0.9961 - val_loss: 1.4540 - val_acc: 0.7659\n",
      "Epoch 91/100\n",
      "688/688 [==============================] - 158s 230ms/step - loss: 0.0126 - acc: 0.9954 - val_loss: 1.4904 - val_acc: 0.7682\n",
      "Epoch 92/100\n",
      "663/688 [===========================>..] - ETA: 5s - loss: 0.0143 - acc: 0.9955"
     ]
    },
    {
     "name": "stderr",
     "output_type": "stream",
     "text": [
      "IOPub message rate exceeded.\n",
      "The notebook server will temporarily stop sending output\n",
      "to the client in order to avoid crashing it.\n",
      "To change this limit, set the config variable\n",
      "`--NotebookApp.iopub_msg_rate_limit`.\n",
      "\n",
      "Current values:\n",
      "NotebookApp.iopub_msg_rate_limit=1000.0 (msgs/sec)\n",
      "NotebookApp.rate_limit_window=3.0 (secs)\n",
      "\n"
     ]
    },
    {
     "name": "stdout",
     "output_type": "stream",
     "text": [
      "688/688 [==============================] - 159s 230ms/step - loss: 0.0097 - acc: 0.9965 - val_loss: 1.4365 - val_acc: 0.7850\n",
      "Epoch 98/100\n",
      "688/688 [==============================] - 158s 230ms/step - loss: 0.0153 - acc: 0.9955 - val_loss: 1.4051 - val_acc: 0.7791\n",
      "Epoch 99/100\n",
      "502/688 [====================>.........] - ETA: 41s - loss: 0.0107 - acc: 0.9966"
     ]
    }
   ],
   "source": [
    "## Call fit method\n",
    "# history = model.fit_generator(\n",
    "#     train_generator\n",
    "#     , epochs=epochs_count\n",
    "#     , steps_per_epoch=step_size_train\n",
    "#     , validation_data=validation_generator\n",
    "#     , validation_steps= step_size_valid\n",
    "#     , callbacks=[csvLogger, tensorBoard, checkPointer]\n",
    "# )"
   ]
  },
  {
   "cell_type": "markdown",
   "metadata": {},
   "source": [
    "### Save model"
   ]
  },
  {
   "cell_type": "code",
   "execution_count": null,
   "metadata": {},
   "outputs": [],
   "source": [
    "# print(modelLoc)\n",
    "# model.save(modelLoc)"
   ]
  },
  {
   "cell_type": "code",
   "execution_count": 21,
   "metadata": {},
   "outputs": [],
   "source": [
    "from keras.models import load_model\n",
    "model = load_model('Logs/CheckPoint/7Layer_4Conv_3Dense_BN_20190223-114737.hdf5')"
   ]
  },
  {
   "cell_type": "markdown",
   "metadata": {},
   "source": [
    "### Plot train and validation matrix"
   ]
  },
  {
   "cell_type": "code",
   "execution_count": 22,
   "metadata": {},
   "outputs": [
    {
     "ename": "NameError",
     "evalue": "name 'history' is not defined",
     "output_type": "error",
     "traceback": [
      "\u001b[0;31m---------------------------------------------------------------------------\u001b[0m",
      "\u001b[0;31mNameError\u001b[0m                                 Traceback (most recent call last)",
      "\u001b[0;32m<ipython-input-22-9309dcd22ac0>\u001b[0m in \u001b[0;36m<module>\u001b[0;34m\u001b[0m\n\u001b[0;32m----> 1\u001b[0;31m \u001b[0mhistory_dict\u001b[0m \u001b[0;34m=\u001b[0m \u001b[0mhistory\u001b[0m\u001b[0;34m.\u001b[0m\u001b[0mhistory\u001b[0m\u001b[0;34m\u001b[0m\u001b[0m\n\u001b[0m\u001b[1;32m      2\u001b[0m \u001b[0;34m\u001b[0m\u001b[0m\n\u001b[1;32m      3\u001b[0m \u001b[0macc\u001b[0m \u001b[0;34m=\u001b[0m \u001b[0mhistory_dict\u001b[0m\u001b[0;34m[\u001b[0m\u001b[0;34m'acc'\u001b[0m\u001b[0;34m]\u001b[0m\u001b[0;34m\u001b[0m\u001b[0m\n\u001b[1;32m      4\u001b[0m \u001b[0mval_acc\u001b[0m \u001b[0;34m=\u001b[0m \u001b[0mhistory_dict\u001b[0m\u001b[0;34m[\u001b[0m\u001b[0;34m'val_acc'\u001b[0m\u001b[0;34m]\u001b[0m\u001b[0;34m\u001b[0m\u001b[0m\n\u001b[1;32m      5\u001b[0m \u001b[0mloss\u001b[0m \u001b[0;34m=\u001b[0m \u001b[0mhistory_dict\u001b[0m\u001b[0;34m[\u001b[0m\u001b[0;34m'loss'\u001b[0m\u001b[0;34m]\u001b[0m\u001b[0;34m\u001b[0m\u001b[0m\n",
      "\u001b[0;31mNameError\u001b[0m: name 'history' is not defined"
     ]
    }
   ],
   "source": [
    "history_dict = history.history\n",
    "\n",
    "acc = history_dict['acc']\n",
    "val_acc = history_dict['val_acc']\n",
    "loss = history_dict['loss']\n",
    "val_loss = history_dict['val_loss']\n",
    "\n",
    "epochs = range(1, len(acc) + 1)\n",
    "\n",
    "\n",
    "## Training v/s validation data loss graph\n",
    "\n",
    "# \"bo\" is for \"blue dot\"\n",
    "plt.plot(epochs, loss, 'bo', label='Training loss')\n",
    "# r is for \"solid red line\"\n",
    "plt.plot(epochs, val_loss, 'r', label='Validation loss')\n",
    "plt.title('Training and validation loss')\n",
    "plt.xlabel('Epochs')\n",
    "plt.ylabel('Loss')\n",
    "plt.legend()\n",
    "\n",
    "plt.show()"
   ]
  },
  {
   "cell_type": "code",
   "execution_count": null,
   "metadata": {},
   "outputs": [],
   "source": [
    "## Training v/s validation data accuracy graph\n",
    "\n",
    "plt.plot(epochs, acc, 'bo', label='Training acc')\n",
    "plt.plot(epochs, val_acc, 'r', label='Validation acc')\n",
    "plt.title('Training and validation accuracy')\n",
    "plt.xlabel('Epochs')\n",
    "plt.ylabel('Accuracy')\n",
    "plt.legend()\n",
    "\n",
    "plt.show()"
   ]
  },
  {
   "cell_type": "markdown",
   "metadata": {},
   "source": [
    "### Predict outcome using validation data to create confusion matrix"
   ]
  },
  {
   "cell_type": "code",
   "execution_count": 24,
   "metadata": {},
   "outputs": [],
   "source": [
    "from keras.models import load_model\n",
    "\n",
    "# deletes the existing model\n",
    "#del model  \n",
    "\n",
    "# returns a compiled model\n",
    "# identical to the previous one\n",
    "model = load_model('Logs/CheckPoint/7Layer_4Conv_3Dense_BN_20190223-114737.hdf5')"
   ]
  },
  {
   "cell_type": "code",
   "execution_count": 25,
   "metadata": {},
   "outputs": [
    {
     "name": "stdout",
     "output_type": "stream",
     "text": [
      "Found 2200 images belonging to 22 classes.\n"
     ]
    }
   ],
   "source": [
    "validation_generator = vaDataGen.flow_from_directory(\n",
    "    validationFolder\n",
    "    , color_mode='rgb'\n",
    "    , class_mode=None\n",
    "    , batch_size=1\n",
    "    , shuffle=False\n",
    "    , seed=42\n",
    ")"
   ]
  },
  {
   "cell_type": "code",
   "execution_count": 26,
   "metadata": {},
   "outputs": [
    {
     "name": "stdout",
     "output_type": "stream",
     "text": [
      "2200/2200 [==============================] - 38s 17ms/step\n"
     ]
    }
   ],
   "source": [
    "validation_generator.reset()\n",
    "pred = model.predict_generator(validation_generator, validation_generator.n, verbose=1)"
   ]
  },
  {
   "cell_type": "code",
   "execution_count": 27,
   "metadata": {},
   "outputs": [
    {
     "name": "stdout",
     "output_type": "stream",
     "text": [
      "[ 0  0  0 ... 21 21 21]\n"
     ]
    }
   ],
   "source": [
    "predicted_class_indices=np.argmax(pred,axis=1)\n",
    "print(predicted_class_indices)"
   ]
  },
  {
   "cell_type": "code",
   "execution_count": 28,
   "metadata": {},
   "outputs": [],
   "source": [
    "labels = (train_generator.class_indices)\n",
    "labels = dict((v,k) for k,v in labels.items())\n",
    "predictions = [labels[k] for k in predicted_class_indices]"
   ]
  },
  {
   "cell_type": "code",
   "execution_count": 29,
   "metadata": {},
   "outputs": [],
   "source": [
    "filenames=validation_generator.filenames\n",
    "actualClassIndex = validation_generator.classes\n",
    "#filePath = validation_generator.filepaths\n",
    "actualClass = [labels[k] for k in actualClassIndex]\n",
    "\n",
    "results=pd.DataFrame({\n",
    "    \"Filename\":filenames\n",
    "    , \"Predictions\":predictions\n",
    "    , \"Actual\":actualClass\n",
    "})\n",
    "\n",
    "#results"
   ]
  },
  {
   "cell_type": "code",
   "execution_count": 30,
   "metadata": {},
   "outputs": [
    {
     "data": {
      "text/plain": [
       "0.7886363636363637"
      ]
     },
     "execution_count": 30,
     "metadata": {},
     "output_type": "execute_result"
    }
   ],
   "source": [
    "y_actual = validation_generator.classes\n",
    "y_pred = predicted_class_indices\n",
    "metrics.accuracy_score(y_actual, y_pred)"
   ]
  },
  {
   "cell_type": "code",
   "execution_count": 31,
   "metadata": {},
   "outputs": [
    {
     "name": "stdout",
     "output_type": "stream",
     "text": [
      "             precision    recall  f1-score   support\n",
      "\n",
      "          0       0.82      0.76      0.79       100\n",
      "          1       0.89      0.84      0.87       100\n",
      "          2       0.67      0.55      0.60       100\n",
      "          3       0.68      0.79      0.73       100\n",
      "          4       0.77      0.84      0.80       100\n",
      "          5       0.91      0.84      0.87       100\n",
      "          6       0.67      0.68      0.67       100\n",
      "          7       0.62      0.58      0.60       100\n",
      "          8       0.71      0.87      0.78       100\n",
      "          9       0.78      0.68      0.73       100\n",
      "         10       0.72      0.74      0.73       100\n",
      "         11       0.84      0.84      0.84       100\n",
      "         12       0.80      0.85      0.83       100\n",
      "         13       0.77      0.65      0.71       100\n",
      "         14       0.82      0.91      0.86       100\n",
      "         15       0.80      0.78      0.79       100\n",
      "         16       0.84      0.79      0.81       100\n",
      "         17       0.89      0.91      0.90       100\n",
      "         18       0.79      0.87      0.83       100\n",
      "         19       0.89      0.85      0.87       100\n",
      "         20       0.81      0.89      0.85       100\n",
      "         21       0.89      0.84      0.87       100\n",
      "\n",
      "avg / total       0.79      0.79      0.79      2200\n",
      "\n"
     ]
    },
    {
     "data": {
      "image/png": "[encoded data removed]",
      "text/plain": [
       "<Figure size 5760x1440 with 2 Axes>"
      ]
     },
     "metadata": {},
     "output_type": "display_data"
    }
   ],
   "source": [
    "createConfusionMatrix(y_actual, y_pred, train_generator.class_indices.keys())"
   ]
  },
  {
   "cell_type": "markdown",
   "metadata": {},
   "source": [
    "## Read the saved model based on checkpointing and then validate it on test data"
   ]
  },
  {
   "cell_type": "code",
   "execution_count": 32,
   "metadata": {},
   "outputs": [],
   "source": [
    "from keras.models import load_model\n",
    "\n",
    "# deletes the existing model\n",
    "del model  \n",
    "\n",
    "# returns a compiled model\n",
    "# identical to the previous one\n",
    "model = load_model('Logs/CheckPoint/7Layer_4Conv_3Dense_BN_20190223-114737.hdf5')"
   ]
  },
  {
   "cell_type": "markdown",
   "metadata": {},
   "source": [
    "### Predict outcome using test data to create confusion matrix"
   ]
  },
  {
   "cell_type": "code",
   "execution_count": 33,
   "metadata": {},
   "outputs": [
    {
     "name": "stdout",
     "output_type": "stream",
     "text": [
      "Found 440 images belonging to 22 classes.\n"
     ]
    }
   ],
   "source": [
    "testDataGen = ImageDataGenerator(\n",
    "    rescale=1./255\n",
    ")\n",
    "\n",
    "test_generator = testDataGen.flow_from_directory(\n",
    "    testFolder\n",
    "    , color_mode='rgb'\n",
    "    , class_mode=None\n",
    "    , batch_size=1\n",
    "    , shuffle=False\n",
    "    , seed=42\n",
    ")"
   ]
  },
  {
   "cell_type": "code",
   "execution_count": 34,
   "metadata": {},
   "outputs": [
    {
     "name": "stdout",
     "output_type": "stream",
     "text": [
      "440/440 [==============================] - 5s 12ms/step\n"
     ]
    }
   ],
   "source": [
    "test_generator.reset()\n",
    "pred = model.predict_generator(test_generator, test_generator.n, verbose=1)"
   ]
  },
  {
   "cell_type": "code",
   "execution_count": 35,
   "metadata": {},
   "outputs": [
    {
     "name": "stdout",
     "output_type": "stream",
     "text": [
      "[ 0  5  0 20  0 12  0  0  0  0  0  0  0  0  0  0  0  0  0  5  1  1  1  1\n",
      " 16  1  1 19  1  1  1  3  1  1  1  1  2  1  1  1  2  2  0  7 15  2  2  0\n",
      "  2  2  2  2 13  2  2  2  7  2  2  2  3  3  3  3 12  3  0  3  3  3 12  3\n",
      "  3  3  3  3  3  3 12  3  4  4  4  4  4  4  4  4  4  4  4  4  4  4  4  4\n",
      "  4 15  4  4  5  5  5  5  5  5  5 16  5  5  5  5 19  5  5  5  5  5  3  5\n",
      "  6  6  6  2  6  6  7  6 10  6  6  7  6 10  6  6  6  6  6  6  6  7  7  7\n",
      " 20 17  7  6  7  7  0  7  7  7  6  6  6  2  6  7  8  8  8  8  8  8  8  8\n",
      "  9  9  8  8  8  8  8  8 20  8  8  8  9  9  9 20  9  9  6 12  9 10  9  9\n",
      "  4  9  9  4  9 10 13  9 10  0 10  2 10 18 10 10  6 10 10 10 10 10 15  2\n",
      " 10 10  6 10 11  6 11 11 11 10 12 11 11 17 11  8 11 11 11 11 11 11 11 11\n",
      " 12 12 12 20 12 12 12 12 12 12 12 20 12 12 12 12 12 12 12 12 17 13 13 17\n",
      " 13  8 13 13 13 13 13 13  8  4 17 13 13  7 13 13 14 14 10 14 14 14 14 14\n",
      " 14 14 14 14 14 14 14 14 14 14 14 14 15 15 15 15 15 15 15 15 15 15 15 15\n",
      " 15 15 15  6  2 15 15 15 16 16 16 16 16 16 16  1 16 16 16 16 16 16 16 16\n",
      " 16 16 16 16 17 17 13 17 17 14 17 17 11 14 17 17 17 17 17 17 17 17 17 17\n",
      " 18 18 18 18 18 18 18 18 18 18 18 18 18 18 21 18 18 18 18 18 19  6 19 19\n",
      " 19 19  0 19 19 19  7 19 11 19 19 19  2 19 19 19 20 20 20 20 20 20 20 20\n",
      " 20 20 20 20 20 20 20 20 20 20 20 20 21 11 21 21 21 21 21 21  4 21 21 21\n",
      " 21 21 21 21 21  4 21 21]\n"
     ]
    }
   ],
   "source": [
    "predicted_class_indices=np.argmax(pred,axis=1)\n",
    "print(predicted_class_indices)"
   ]
  },
  {
   "cell_type": "code",
   "execution_count": 36,
   "metadata": {},
   "outputs": [],
   "source": [
    "labels = (train_generator.class_indices)\n",
    "labels = dict((v,k) for k,v in labels.items())\n",
    "predictions = [labels[k] for k in predicted_class_indices]"
   ]
  },
  {
   "cell_type": "code",
   "execution_count": 37,
   "metadata": {},
   "outputs": [],
   "source": [
    "filenames=test_generator.filenames\n",
    "actualClassIndex = test_generator.classes\n",
    "#filePath = validation_generator.filepaths\n",
    "actualClass = [labels[k] for k in actualClassIndex]\n",
    "\n",
    "results=pd.DataFrame({\n",
    "    \"Filename\":filenames\n",
    "    , \"Predictions\":predictions\n",
    "    , \"Actual\":actualClass\n",
    "})\n",
    "\n",
    "#results"
   ]
  },
  {
   "cell_type": "code",
   "execution_count": 38,
   "metadata": {},
   "outputs": [
    {
     "ename": "ValueError",
     "evalue": "Found input variables with inconsistent numbers of samples: [2200, 440]",
     "output_type": "error",
     "traceback": [
      "\u001b[0;31m---------------------------------------------------------------------------\u001b[0m",
      "\u001b[0;31mValueError\u001b[0m                                Traceback (most recent call last)",
      "\u001b[0;32m<ipython-input-38-9fa6b6362259>\u001b[0m in \u001b[0;36m<module>\u001b[0;34m\u001b[0m\n\u001b[1;32m      1\u001b[0m \u001b[0my_actual\u001b[0m \u001b[0;34m=\u001b[0m \u001b[0mvalidation_generator\u001b[0m\u001b[0;34m.\u001b[0m\u001b[0mclasses\u001b[0m\u001b[0;34m\u001b[0m\u001b[0m\n\u001b[1;32m      2\u001b[0m \u001b[0my_pred\u001b[0m \u001b[0;34m=\u001b[0m \u001b[0mpredicted_class_indices\u001b[0m\u001b[0;34m\u001b[0m\u001b[0m\n\u001b[0;32m----> 3\u001b[0;31m \u001b[0mmetrics\u001b[0m\u001b[0;34m.\u001b[0m\u001b[0maccuracy_score\u001b[0m\u001b[0;34m(\u001b[0m\u001b[0my_actual\u001b[0m\u001b[0;34m,\u001b[0m \u001b[0my_pred\u001b[0m\u001b[0;34m)\u001b[0m\u001b[0;34m\u001b[0m\u001b[0m\n\u001b[0m",
      "\u001b[0;32m/usr/local/lib/python3.5/site-packages/sklearn/metrics/classification.py\u001b[0m in \u001b[0;36maccuracy_score\u001b[0;34m(y_true, y_pred, normalize, sample_weight)\u001b[0m\n\u001b[1;32m    174\u001b[0m \u001b[0;34m\u001b[0m\u001b[0m\n\u001b[1;32m    175\u001b[0m     \u001b[0;31m# Compute accuracy for each possible representation\u001b[0m\u001b[0;34m\u001b[0m\u001b[0;34m\u001b[0m\u001b[0m\n\u001b[0;32m--> 176\u001b[0;31m     \u001b[0my_type\u001b[0m\u001b[0;34m,\u001b[0m \u001b[0my_true\u001b[0m\u001b[0;34m,\u001b[0m \u001b[0my_pred\u001b[0m \u001b[0;34m=\u001b[0m \u001b[0m_check_targets\u001b[0m\u001b[0;34m(\u001b[0m\u001b[0my_true\u001b[0m\u001b[0;34m,\u001b[0m \u001b[0my_pred\u001b[0m\u001b[0;34m)\u001b[0m\u001b[0;34m\u001b[0m\u001b[0m\n\u001b[0m\u001b[1;32m    177\u001b[0m     \u001b[0;32mif\u001b[0m \u001b[0my_type\u001b[0m\u001b[0;34m.\u001b[0m\u001b[0mstartswith\u001b[0m\u001b[0;34m(\u001b[0m\u001b[0;34m'multilabel'\u001b[0m\u001b[0;34m)\u001b[0m\u001b[0;34m:\u001b[0m\u001b[0;34m\u001b[0m\u001b[0m\n\u001b[1;32m    178\u001b[0m         \u001b[0mdiffering_labels\u001b[0m \u001b[0;34m=\u001b[0m \u001b[0mcount_nonzero\u001b[0m\u001b[0;34m(\u001b[0m\u001b[0my_true\u001b[0m \u001b[0;34m-\u001b[0m \u001b[0my_pred\u001b[0m\u001b[0;34m,\u001b[0m \u001b[0maxis\u001b[0m\u001b[0;34m=\u001b[0m\u001b[0;36m1\u001b[0m\u001b[0;34m)\u001b[0m\u001b[0;34m\u001b[0m\u001b[0m\n",
      "\u001b[0;32m/usr/local/lib/python3.5/site-packages/sklearn/metrics/classification.py\u001b[0m in \u001b[0;36m_check_targets\u001b[0;34m(y_true, y_pred)\u001b[0m\n\u001b[1;32m     69\u001b[0m     \u001b[0my_pred\u001b[0m \u001b[0;34m:\u001b[0m \u001b[0marray\u001b[0m \u001b[0;32mor\u001b[0m \u001b[0mindicator\u001b[0m \u001b[0mmatrix\u001b[0m\u001b[0;34m\u001b[0m\u001b[0m\n\u001b[1;32m     70\u001b[0m     \"\"\"\n\u001b[0;32m---> 71\u001b[0;31m     \u001b[0mcheck_consistent_length\u001b[0m\u001b[0;34m(\u001b[0m\u001b[0my_true\u001b[0m\u001b[0;34m,\u001b[0m \u001b[0my_pred\u001b[0m\u001b[0;34m)\u001b[0m\u001b[0;34m\u001b[0m\u001b[0m\n\u001b[0m\u001b[1;32m     72\u001b[0m     \u001b[0mtype_true\u001b[0m \u001b[0;34m=\u001b[0m \u001b[0mtype_of_target\u001b[0m\u001b[0;34m(\u001b[0m\u001b[0my_true\u001b[0m\u001b[0;34m)\u001b[0m\u001b[0;34m\u001b[0m\u001b[0m\n\u001b[1;32m     73\u001b[0m     \u001b[0mtype_pred\u001b[0m \u001b[0;34m=\u001b[0m \u001b[0mtype_of_target\u001b[0m\u001b[0;34m(\u001b[0m\u001b[0my_pred\u001b[0m\u001b[0;34m)\u001b[0m\u001b[0;34m\u001b[0m\u001b[0m\n",
      "\u001b[0;32m/usr/local/lib/python3.5/site-packages/sklearn/utils/validation.py\u001b[0m in \u001b[0;36mcheck_consistent_length\u001b[0;34m(*arrays)\u001b[0m\n\u001b[1;32m    202\u001b[0m     \u001b[0;32mif\u001b[0m \u001b[0mlen\u001b[0m\u001b[0;34m(\u001b[0m\u001b[0muniques\u001b[0m\u001b[0;34m)\u001b[0m \u001b[0;34m>\u001b[0m \u001b[0;36m1\u001b[0m\u001b[0;34m:\u001b[0m\u001b[0;34m\u001b[0m\u001b[0m\n\u001b[1;32m    203\u001b[0m         raise ValueError(\"Found input variables with inconsistent numbers of\"\n\u001b[0;32m--> 204\u001b[0;31m                          \" samples: %r\" % [int(l) for l in lengths])\n\u001b[0m\u001b[1;32m    205\u001b[0m \u001b[0;34m\u001b[0m\u001b[0m\n\u001b[1;32m    206\u001b[0m \u001b[0;34m\u001b[0m\u001b[0m\n",
      "\u001b[0;31mValueError\u001b[0m: Found input variables with inconsistent numbers of samples: [2200, 440]"
     ]
    }
   ],
   "source": [
    "y_actual = validation_generator.classes\n",
    "y_pred = predicted_class_indices\n",
    "metrics.accuracy_score(y_actual, y_pred)"
   ]
  },
  {
   "cell_type": "code",
   "execution_count": null,
   "metadata": {},
   "outputs": [],
   "source": [
    "createConfusionMatrix(y_actual, y_pred, train_generator.class_indices.keys())"
   ]
  },
  {
   "cell_type": "code",
   "execution_count": null,
   "metadata": {},
   "outputs": [],
   "source": []
  },
  {
   "cell_type": "code",
   "execution_count": null,
   "metadata": {},
   "outputs": [],
   "source": []
  }
 ],
 "metadata": {
  "kernelspec": {
   "display_name": "Python 3",
   "language": "python",
   "name": "python3"
  },
  "language_info": {
   "codemirror_mode": {
    "name": "ipython",
    "version": 3
   },
   "file_extension": ".py",
   "mimetype": "text/x-python",
   "name": "python",
   "nbconvert_exporter": "python",
   "pygments_lexer": "ipython3",
   "version": "3.5.3"
  }
 },
 "nbformat": 4,
 "nbformat_minor": 2
}
