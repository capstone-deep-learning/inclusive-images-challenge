{
 "cells": [
  {
   "cell_type": "markdown",
   "metadata": {},
   "source": [
    "### Import required libraries"
   ]
  },
  {
   "cell_type": "code",
   "execution_count": 1,
   "metadata": {},
   "outputs": [],
   "source": [
    "import os, fnmatch\n",
    "import numpy as np\n",
    "import matplotlib.pyplot as plt\n",
    "import pandas as pd\n",
    "from PIL import Image\n",
    "Image.LOAD_TRUNCATED_IMAGES = True\n",
    "from urllib.error import HTTPError\n",
    "from urllib.request import urlretrieve"
   ]
  },
  {
   "cell_type": "markdown",
   "metadata": {},
   "source": [
    "### Set base and required folders path"
   ]
  },
  {
   "cell_type": "code",
   "execution_count": 2,
   "metadata": {},
   "outputs": [
    {
     "name": "stdout",
     "output_type": "stream",
     "text": [
      "Current working directory: /Users/kuldeepsingh/Documents/bdml/capstone/cropresize\n",
      "Input Files Base Folder: /Users/kuldeepsingh/Documents/bdml/capstone/cropresize/Desktop/Kaggle/Input\n",
      "Original File Location: /Users/kuldeepsingh/Documents/bdml/capstone/cropresize/Desktop/Kaggle/Input/OriginalImages\n",
      "Target File Location: /Users/kuldeepsingh/Documents/bdml/capstone/cropresize/Desktop/Kaggle/Input/TrainTestImages\n"
     ]
    }
   ],
   "source": [
    "cwd = os.getcwd()\n",
    "inputFileFolder = os.path.join(cwd,\"Desktop\",\"Kaggle\",\"Input\")\n",
    "#outputFileFolder = os.path.join(cwd,\"Desktop\",\"Kaggle\",\"Input\",\"OriginalImages\") #\"TrainImages/\"\n",
    "\n",
    "## Location of original images\n",
    "orignalFilesLoc = os.path.join(inputFileFolder,\"OriginalImages\") \n",
    "\n",
    "## Location where cropped and re-sized images needs to be stored\n",
    "targetFilesLoc = os.path.join(inputFileFolder,\"TrainTestImages\")\n",
    "\n",
    "## Print paths\n",
    "print(\"Current working directory: %s\" %(cwd))\n",
    "print('Input Files Base Folder: %s' %(inputFileFolder))\n",
    "print(\"Original File Location: %s\" %(orignalFilesLoc))\n",
    "print(\"Target File Location: %s\" %(targetFilesLoc))"
   ]
  },
  {
   "cell_type": "markdown",
   "metadata": {},
   "source": [
    "### Sub-Folder Location"
   ]
  },
  {
   "cell_type": "code",
   "execution_count": 3,
   "metadata": {},
   "outputs": [
    {
     "name": "stdout",
     "output_type": "stream",
     "text": [
      "Original File Location: /Users/kuldeepsingh/Documents/bdml/capstone/cropresize/Desktop/Kaggle/Input/OriginalImages/Tree\n",
      "Target File Location: /Users/kuldeepsingh/Documents/bdml/capstone/cropresize/Desktop/Kaggle/Input/TrainTestImages/Tree\n"
     ]
    }
   ],
   "source": [
    "## In case you want to target any specific folder, then replace \"\" with folder name below\n",
    "subFolder = \"Tree\"\n",
    "if (subFolder != \"\"):\n",
    "    orignalFilesLoc = os.path.join(orignalFilesLoc,subFolder)\n",
    "    targetFilesLoc = os.path.join(targetFilesLoc,subFolder)\n",
    "\n",
    "print(\"Original File Location: %s\" %(orignalFilesLoc))\n",
    "print(\"Target File Location: %s\" %(targetFilesLoc))"
   ]
  },
  {
   "cell_type": "markdown",
   "metadata": {},
   "source": [
    "## Cropping Image"
   ]
  },
  {
   "cell_type": "markdown",
   "metadata": {},
   "source": [
    "### Reading bounding boxes"
   ]
  },
  {
   "cell_type": "code",
   "execution_count": 4,
   "metadata": {},
   "outputs": [
    {
     "data": {
      "text/html": [
       "<div>\n",
       "<style scoped>\n",
       "    .dataframe tbody tr th:only-of-type {\n",
       "        vertical-align: middle;\n",
       "    }\n",
       "\n",
       "    .dataframe tbody tr th {\n",
       "        vertical-align: top;\n",
       "    }\n",
       "\n",
       "    .dataframe thead th {\n",
       "        text-align: right;\n",
       "    }\n",
       "</style>\n",
       "<table border=\"1\" class=\"dataframe\">\n",
       "  <thead>\n",
       "    <tr style=\"text-align: right;\">\n",
       "      <th></th>\n",
       "      <th>Source</th>\n",
       "      <th>LabelName</th>\n",
       "      <th>Confidence</th>\n",
       "      <th>XMin</th>\n",
       "      <th>XMax</th>\n",
       "      <th>YMin</th>\n",
       "      <th>YMax</th>\n",
       "      <th>IsOccluded</th>\n",
       "      <th>IsTruncated</th>\n",
       "      <th>IsGroupOf</th>\n",
       "      <th>IsDepiction</th>\n",
       "      <th>IsInside</th>\n",
       "    </tr>\n",
       "    <tr>\n",
       "      <th>ImageID</th>\n",
       "      <th></th>\n",
       "      <th></th>\n",
       "      <th></th>\n",
       "      <th></th>\n",
       "      <th></th>\n",
       "      <th></th>\n",
       "      <th></th>\n",
       "      <th></th>\n",
       "      <th></th>\n",
       "      <th></th>\n",
       "      <th></th>\n",
       "      <th></th>\n",
       "    </tr>\n",
       "  </thead>\n",
       "  <tbody>\n",
       "    <tr>\n",
       "      <th>000002b66c9c498e</th>\n",
       "      <td>xclick</td>\n",
       "      <td>/m/01g317</td>\n",
       "      <td>1</td>\n",
       "      <td>0.012500</td>\n",
       "      <td>0.195312</td>\n",
       "      <td>0.148438</td>\n",
       "      <td>0.587500</td>\n",
       "      <td>0</td>\n",
       "      <td>1</td>\n",
       "      <td>0</td>\n",
       "      <td>0</td>\n",
       "      <td>0</td>\n",
       "    </tr>\n",
       "    <tr>\n",
       "      <th>000002b66c9c498e</th>\n",
       "      <td>xclick</td>\n",
       "      <td>/m/01g317</td>\n",
       "      <td>1</td>\n",
       "      <td>0.025000</td>\n",
       "      <td>0.276563</td>\n",
       "      <td>0.714063</td>\n",
       "      <td>0.948438</td>\n",
       "      <td>0</td>\n",
       "      <td>1</td>\n",
       "      <td>0</td>\n",
       "      <td>0</td>\n",
       "      <td>0</td>\n",
       "    </tr>\n",
       "    <tr>\n",
       "      <th>000002b66c9c498e</th>\n",
       "      <td>xclick</td>\n",
       "      <td>/m/01g317</td>\n",
       "      <td>1</td>\n",
       "      <td>0.151562</td>\n",
       "      <td>0.310937</td>\n",
       "      <td>0.198437</td>\n",
       "      <td>0.590625</td>\n",
       "      <td>1</td>\n",
       "      <td>0</td>\n",
       "      <td>0</td>\n",
       "      <td>0</td>\n",
       "      <td>0</td>\n",
       "    </tr>\n",
       "    <tr>\n",
       "      <th>000002b66c9c498e</th>\n",
       "      <td>xclick</td>\n",
       "      <td>/m/01g317</td>\n",
       "      <td>1</td>\n",
       "      <td>0.256250</td>\n",
       "      <td>0.429688</td>\n",
       "      <td>0.651563</td>\n",
       "      <td>0.925000</td>\n",
       "      <td>1</td>\n",
       "      <td>0</td>\n",
       "      <td>0</td>\n",
       "      <td>0</td>\n",
       "      <td>0</td>\n",
       "    </tr>\n",
       "    <tr>\n",
       "      <th>000002b66c9c498e</th>\n",
       "      <td>xclick</td>\n",
       "      <td>/m/01g317</td>\n",
       "      <td>1</td>\n",
       "      <td>0.257812</td>\n",
       "      <td>0.346875</td>\n",
       "      <td>0.235938</td>\n",
       "      <td>0.385938</td>\n",
       "      <td>1</td>\n",
       "      <td>0</td>\n",
       "      <td>0</td>\n",
       "      <td>0</td>\n",
       "      <td>0</td>\n",
       "    </tr>\n",
       "  </tbody>\n",
       "</table>\n",
       "</div>"
      ],
      "text/plain": [
       "                  Source  LabelName  Confidence      XMin      XMax      YMin  \\\n",
       "ImageID                                                                         \n",
       "000002b66c9c498e  xclick  /m/01g317           1  0.012500  0.195312  0.148438   \n",
       "000002b66c9c498e  xclick  /m/01g317           1  0.025000  0.276563  0.714063   \n",
       "000002b66c9c498e  xclick  /m/01g317           1  0.151562  0.310937  0.198437   \n",
       "000002b66c9c498e  xclick  /m/01g317           1  0.256250  0.429688  0.651563   \n",
       "000002b66c9c498e  xclick  /m/01g317           1  0.257812  0.346875  0.235938   \n",
       "\n",
       "                      YMax  IsOccluded  IsTruncated  IsGroupOf  IsDepiction  \\\n",
       "ImageID                                                                       \n",
       "000002b66c9c498e  0.587500           0            1          0            0   \n",
       "000002b66c9c498e  0.948438           0            1          0            0   \n",
       "000002b66c9c498e  0.590625           1            0          0            0   \n",
       "000002b66c9c498e  0.925000           1            0          0            0   \n",
       "000002b66c9c498e  0.385938           1            0          0            0   \n",
       "\n",
       "                  IsInside  \n",
       "ImageID                     \n",
       "000002b66c9c498e         0  \n",
       "000002b66c9c498e         0  \n",
       "000002b66c9c498e         0  \n",
       "000002b66c9c498e         0  \n",
       "000002b66c9c498e         0  "
      ]
     },
     "execution_count": 4,
     "metadata": {},
     "output_type": "execute_result"
    }
   ],
   "source": [
    "boundingBoxPath = os.path.join(inputFileFolder,\"train_bounding_boxes.csv\")\n",
    "dfTrainBB = pd.read_csv(boundingBoxPath)\n",
    "dfTrainBB.set_index('ImageID',inplace=True)\n",
    "dfTrainBB.head()"
   ]
  },
  {
   "cell_type": "markdown",
   "metadata": {},
   "source": [
    "### Create Label lookup"
   ]
  },
  {
   "cell_type": "code",
   "execution_count": 5,
   "metadata": {},
   "outputs": [
    {
     "name": "stdout",
     "output_type": "stream",
     "text": [
      "19699\n"
     ]
    }
   ],
   "source": [
    "labelsPath = os.path.join(inputFileFolder,\"class-descriptions.csv\")\n",
    "dfLables = pd.read_csv(labelsPath)\n",
    "\n",
    "dirClassesID= dict([(Desc.replace(\" \",\"\"),ID) for ID, Desc in zip(dfLables.label_code, dfLables.description)])\n",
    "print(len(dirClassesID))"
   ]
  },
  {
   "cell_type": "markdown",
   "metadata": {},
   "source": [
    "## Methods to process the image"
   ]
  },
  {
   "cell_type": "markdown",
   "metadata": {},
   "source": [
    "#### This method is used to traverse the given input path and call processImage method for each image in the folder"
   ]
  },
  {
   "cell_type": "code",
   "execution_count": 6,
   "metadata": {},
   "outputs": [],
   "source": [
    "def processImageFolder(origPath, tgtPath):\n",
    "    \n",
    "    ## Check if input folder is there or not\n",
    "    if not os.path.exists(origPath):\n",
    "        print(\"Input path '%s' does not exist, provide valid path.\" %(origPath))\n",
    "        return\n",
    "    \n",
    "    for file in os.listdir(origPath):\n",
    "        subLoc = os.path.join(origPath, file)\n",
    "        if os.path.isfile(subLoc):\n",
    "            imageID = file.split(\".\")[0]\n",
    "            imageExt = file.split(\".\")[-1]\n",
    "            #print(\"Image ID: %s, Image Ext:%s\" %(imageID, imageExt))\n",
    "            ## Create a function in which file, input and target location will be send\n",
    "            processImage(file, origPath, tgtPath)\n",
    "        else:\n",
    "            newTgtPath = os.path.join(tgtPath,file)\n",
    "            print(\"Orig folder: %s\" %(subLoc))\n",
    "            print(\"Targ folder: %s\" %(newTgtPath))\n",
    "            processImageFolder(subLoc, newTgtPath)"
   ]
  },
  {
   "cell_type": "markdown",
   "metadata": {},
   "source": [
    "#### This method is used to crop and resize the given image and save the same at the target location"
   ]
  },
  {
   "cell_type": "code",
   "execution_count": 7,
   "metadata": {},
   "outputs": [],
   "source": [
    "def processImage(imageFile, imageLoc, targetLoc, showImage=False):\n",
    "    \n",
    "    imageID = imageFile.split(\".\")[0]\n",
    "    imageExt = imageFile.split(\".\")[-1]\n",
    "    label = os.path.basename(os.path.normpath(imageLoc))\n",
    "    labelID = dirClassesID[label]\n",
    "    \n",
    "    ## Check if target folder is there or not\n",
    "    if not os.path.exists(targetLoc):\n",
    "        os.makedirs(targetLoc)\n",
    "    \n",
    "    ## Read image\n",
    "    origImage = Image.open(os.path.join(imageLoc,imageFile))\n",
    "    ## convert image to array\n",
    "    arrImage = np.array(origImage)\n",
    "    width, height = origImage.size   # Get dimensions\n",
    "    \n",
    "    if(showImage):\n",
    "        print(\"Label: %s\" %(label))\n",
    "        print(\"Label ID: %s\" %(labelID))\n",
    "        print(\"Image ID: %s\" %(imageID))\n",
    "        print(\"Image Loc: %s\" %(imageLoc))\n",
    "        print(\"Image size: %s\" %(str(origImage.size)))\n",
    "        print(\"Image Array Shape: %s\" %(str(arrImage.shape)))\n",
    "        plt.imshow(arrImage)\n",
    "    \n",
    "    ## Get bounding boxes\n",
    "    boundingBoxes = dfTrainBB.loc[(dfTrainBB.index == imageID) & (dfTrainBB['LabelName'] == labelID),\n",
    "                                 ['XMin','YMin','XMax','YMax']].values\n",
    "    subImagecount = 1\n",
    "    \n",
    "    ## Loop through each bounding box and create a image\n",
    "    for box in boundingBoxes:\n",
    "        left = box[0]*width \n",
    "        top = box[1] *height\n",
    "        right =box[2] * width\n",
    "        bottom = box[3] * height\n",
    "\n",
    "        ## Crop image\n",
    "        cropImage = origImage.crop((left, top, right, bottom))\n",
    "        resizeImage = cropImage.resize((256,256))\n",
    "        \n",
    "        ## Save image at location\n",
    "        tgtImageName = imageID + \"_\" + str(subImagecount) + \".\" + imageExt\n",
    "        tgtPath = os.path.join(targetLoc,tgtImageName)\n",
    "        \n",
    "        ## If target path exist, delete the existing file\n",
    "        if(os.path.exists(tgtPath)):\n",
    "            print(\"Deleting: %s\" %(tgtPath))\n",
    "            os.remove(tgtPath)\n",
    "        \n",
    "        ## Save image\n",
    "        resizeImage.save(tgtPath)\n",
    "\n",
    "        ## Increment the counter\n",
    "        subImagecount = subImagecount+1\n",
    "\n",
    "        if (showImage):\n",
    "            dtcrp = np.array(resizeImage)\n",
    "            print(dtcrp.shape)\n",
    "            plt.imshow(dtcrp)\n",
    "        "
   ]
  },
  {
   "cell_type": "markdown",
   "metadata": {},
   "source": [
    "### Call processImageFolder to process the images in a given folder and sub-folder"
   ]
  },
  {
   "cell_type": "code",
   "execution_count": 8,
   "metadata": {},
   "outputs": [
    {
     "name": "stderr",
     "output_type": "stream",
     "text": [
      "/anaconda3/lib/python3.6/site-packages/PIL/TiffImagePlugin.py:747: UserWarning: Possibly corrupt EXIF data.  Expecting to read 99877888 bytes but only got 0. Skipping tag 1029\n",
      "  \" Skipping tag %s\" % (size, len(data), tag))\n",
      "/anaconda3/lib/python3.6/site-packages/PIL/TiffImagePlugin.py:747: UserWarning: Possibly corrupt EXIF data.  Expecting to read 31197188 bytes but only got 0. Skipping tag 1029\n",
      "  \" Skipping tag %s\" % (size, len(data), tag))\n",
      "/anaconda3/lib/python3.6/site-packages/PIL/TiffImagePlugin.py:747: UserWarning: Possibly corrupt EXIF data.  Expecting to read 35651584 bytes but only got 0. Skipping tag 0\n",
      "  \" Skipping tag %s\" % (size, len(data), tag))\n",
      "/anaconda3/lib/python3.6/site-packages/PIL/TiffImagePlugin.py:747: UserWarning: Possibly corrupt EXIF data.  Expecting to read 18481152 bytes but only got 0. Skipping tag 0\n",
      "  \" Skipping tag %s\" % (size, len(data), tag))\n",
      "/anaconda3/lib/python3.6/site-packages/PIL/TiffImagePlugin.py:747: UserWarning: Possibly corrupt EXIF data.  Expecting to read 19988480 bytes but only got 0. Skipping tag 0\n",
      "  \" Skipping tag %s\" % (size, len(data), tag))\n",
      "/anaconda3/lib/python3.6/site-packages/PIL/TiffImagePlugin.py:747: UserWarning: Possibly corrupt EXIF data.  Expecting to read 2271805440 bytes but only got 0. Skipping tag 0\n",
      "  \" Skipping tag %s\" % (size, len(data), tag))\n",
      "/anaconda3/lib/python3.6/site-packages/PIL/TiffImagePlugin.py:764: UserWarning: Corrupt EXIF data.  Expecting to read 12 bytes but only got 4. \n",
      "  warnings.warn(str(msg))\n"
     ]
    }
   ],
   "source": [
    "processImageFolder(orignalFilesLoc, targetFilesLoc)"
   ]
  },
  {
   "cell_type": "code",
   "execution_count": null,
   "metadata": {},
   "outputs": [],
   "source": []
  }
 ],
 "metadata": {
  "kernelspec": {
   "display_name": "Python 3",
   "language": "python",
   "name": "python3"
  },
  "language_info": {
   "codemirror_mode": {
    "name": "ipython",
    "version": 3
   },
   "file_extension": ".py",
   "mimetype": "text/x-python",
   "name": "python",
   "nbconvert_exporter": "python",
   "pygments_lexer": "ipython3",
   "version": "3.6.5"
  }
 },
 "nbformat": 4,
 "nbformat_minor": 2
}
